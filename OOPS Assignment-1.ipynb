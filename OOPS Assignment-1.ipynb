{
 "cells": [
  {
   "cell_type": "markdown",
   "id": "bbdeb671",
   "metadata": {},
   "source": [
    "Q1. Explain Class and Object with respect to Object-Oriented Programming. Give a suitable example."
   ]
  },
  {
   "cell_type": "markdown",
   "id": "e9e3a3ec",
   "metadata": {},
   "source": [
    "Answer:\n",
    "CLASS\n",
    "\n",
    "A class is a blueprint or template that defines the structure, behavior, and attributes of objects.\n",
    "\n",
    "It encapsulates related data and methods that operate on that data.\n",
    "\n",
    "Classes define common characteristics and behaviors that objects of that class will have.\n",
    "\n",
    "They serve as the foundation for creating individual instances or objects."
   ]
  },
  {
   "cell_type": "markdown",
   "id": "c1a80393",
   "metadata": {},
   "source": [
    "Example: Class \"Rectangle\"\n",
    "\n",
    "Attributes: length, width\n",
    "\n",
    "Methods: calculate_area(), calculate_perimeter()"
   ]
  },
  {
   "cell_type": "markdown",
   "id": "12587e4d",
   "metadata": {},
   "source": [
    "Object:\n",
    "\n",
    "An object is an instance or realization of a class.\n",
    "\n",
    "It is created from the blueprint defined by the class.\n",
    "\n",
    "Objects have their own unique identity, state (attribute values), and behavior (methods).\n",
    "\n",
    "They interact with other objects and perform specific operations based on their class's definition."
   ]
  },
  {
   "cell_type": "markdown",
   "id": "275a063b",
   "metadata": {},
   "source": [
    "Example: Object \"rectangle1\" (Instance of the \"Rectangle\" class)\n",
    "\n",
    "Attributes: length = 5, width = 3\n",
    "\n",
    "Methods: calculate_area() - returns 15,\n",
    "            calculate_perimeter() - returns 16"
   ]
  },
  {
   "cell_type": "code",
   "execution_count": 1,
   "id": "df7d2c77",
   "metadata": {},
   "outputs": [
    {
     "name": "stdout",
     "output_type": "stream",
     "text": [
      "The area of the rectangle is: 15\n",
      "The perimeter of the rectangle is: 16\n"
     ]
    }
   ],
   "source": [
    "class Rectangle:\n",
    "    def __init__(self, length, width):\n",
    "        self.length = length\n",
    "        self.width = width\n",
    "\n",
    "    def calculate_area(self):\n",
    "        return self.length * self.width\n",
    "\n",
    "    def calculate_perimeter(self):\n",
    "        return 2 * (self.length + self.width)\n",
    "\n",
    "# Creating an object of the Rectangle class\n",
    "rectangle1 = Rectangle(5, 3)\n",
    "area = rectangle1.calculate_area()\n",
    "perimeter = rectangle1.calculate_perimeter()\n",
    "\n",
    "print(f\"The area of the rectangle is: {area}\") \n",
    "print(f\"The perimeter of the rectangle is: {perimeter}\")\n"
   ]
  },
  {
   "cell_type": "markdown",
   "id": "f329f87d",
   "metadata": {},
   "source": [
    "Q2. Name the four pillars of OOPs."
   ]
  },
  {
   "cell_type": "markdown",
   "id": "f25ffca2",
   "metadata": {},
   "source": [
    "Answer:\n",
    "\n",
    "1-Encapsulation\n",
    "\n",
    "2-Inheritance\n",
    "\n",
    "3-Polymorphism\n",
    "\n",
    "4-Abstraction"
   ]
  },
  {
   "cell_type": "markdown",
   "id": "9cf8a74e",
   "metadata": {},
   "source": [
    "Q3. Explain why the __init__() function is used. Give a suitable example."
   ]
  },
  {
   "cell_type": "markdown",
   "id": "c86946ac",
   "metadata": {},
   "source": [
    "The __init__() function, also known as the constructor, is used in Python classes to initialize and set the initial state of objects when they are created. It is automatically called when an object of a class is instantiated. The primary purpose of __init__() is to perform any necessary setup or initialization tasks for the object."
   ]
  },
  {
   "cell_type": "code",
   "execution_count": 2,
   "id": "4a4b012c",
   "metadata": {},
   "outputs": [
    {
     "name": "stdout",
     "output_type": "stream",
     "text": [
      "Hi, my name is Rahul and I'm 30 years old.\n"
     ]
    }
   ],
   "source": [
    "class Person:\n",
    "    def __init__(self, name, age):\n",
    "        self.name = name\n",
    "        self.age = age\n",
    "\n",
    "    def introduce(self):\n",
    "        print(f\"Hi, my name is {self.name} and I'm {self.age} years old.\")\n",
    "\n",
    "# Creating an object of the Person class\n",
    "person1 = Person(\"Rahul\", 30)\n",
    "person1.introduce() \n"
   ]
  },
  {
   "cell_type": "markdown",
   "id": "2155f0dc",
   "metadata": {},
   "source": [
    "Q4. Why self is used in OOPs?"
   ]
  },
  {
   "cell_type": "markdown",
   "id": "91685833",
   "metadata": {},
   "source": [
    "In object-oriented programming (OOP), the self keyword is used to refer to the instance of a class within its own methods. It is a conventional name, although any other name can be used as well (but self is widely accepted and recommended)."
   ]
  },
  {
   "cell_type": "markdown",
   "id": "df08ea4d",
   "metadata": {},
   "source": [
    "Q5. What is inheritance? Give an example for each type of inheritance."
   ]
  },
  {
   "cell_type": "markdown",
   "id": "23f1c24d",
   "metadata": {},
   "source": [
    "Inheritance is a fundamental concept in object-oriented programming (OOP) that allows a class (known as the derived class or subclass) to inherit properties and behaviors from another class (known as the base class or superclass). The derived class can reuse the attributes and methods of the base class, and also add its own unique attributes and methods or override the inherited ones."
   ]
  },
  {
   "cell_type": "markdown",
   "id": "08f8b077",
   "metadata": {},
   "source": [
    "1-Single Inheritance:\n",
    "\n",
    "In single inheritance, a class inherits from a single base class. It represents an \"is-a\" relationship, where the derived class is a specialized version of the base class."
   ]
  },
  {
   "cell_type": "code",
   "execution_count": 11,
   "id": "013b950f",
   "metadata": {},
   "outputs": [
    {
     "name": "stdout",
     "output_type": "stream",
     "text": [
      "The animal is eating.\n",
      "The dog is barking.\n"
     ]
    }
   ],
   "source": [
    "class Animal:\n",
    "    def __init__(self, name):\n",
    "        self.name = name\n",
    "\n",
    "    def eat(self):\n",
    "        print(\"The animal is eating.\")\n",
    "\n",
    "class Dog(Animal):\n",
    "    def bark(self):\n",
    "        print(\"The dog is barking.\")\n",
    "\n",
    "dog1 = Dog('Bagheera')\n",
    "dog1.eat() \n",
    "dog1.bark() "
   ]
  },
  {
   "cell_type": "markdown",
   "id": "e0be18ee",
   "metadata": {},
   "source": [
    "2-Multiple Inheritance: \n",
    "\n",
    "Multiple inheritance allows a class to inherit from multiple base classes. It enables the derived class to combine attributes and behaviors from multiple sources."
   ]
  },
  {
   "cell_type": "code",
   "execution_count": 12,
   "id": "c855d40c",
   "metadata": {},
   "outputs": [
    {
     "name": "stdout",
     "output_type": "stream",
     "text": [
      "The car is being driven.\n",
      "The electric vehicle is being charged.\n",
      "The hybrid car is in eco mode.\n"
     ]
    }
   ],
   "source": [
    "class Car:\n",
    "    def drive(self):\n",
    "        print(\"The car is being driven.\")\n",
    "\n",
    "class Electric:\n",
    "    def charge(self):\n",
    "        print(\"The electric vehicle is being charged.\")\n",
    "\n",
    "class HybridCar(Car, Electric):\n",
    "    def eco_mode(self):\n",
    "        print(\"The hybrid car is in eco mode.\")\n",
    "\n",
    "hybrid_car = HybridCar()\n",
    "hybrid_car.drive() \n",
    "hybrid_car.charge()  \n",
    "hybrid_car.eco_mode() \n"
   ]
  },
  {
   "cell_type": "markdown",
   "id": "b5cf4b32",
   "metadata": {},
   "source": [
    "3-Multilevel Inheritance:\n",
    "\n",
    "Multilevel inheritance involves deriving a class from another derived class. It creates a hierarchical structure of classes."
   ]
  },
  {
   "cell_type": "code",
   "execution_count": 13,
   "id": "d53d81a1",
   "metadata": {},
   "outputs": [
    {
     "name": "stdout",
     "output_type": "stream",
     "text": [
      "The animal is breathing.\n",
      "The mammal is running.\n",
      "The dog is barking.\n"
     ]
    }
   ],
   "source": [
    "class Animal:\n",
    "    def breathe(self):\n",
    "        print(\"The animal is breathing.\")\n",
    "\n",
    "class Mammal(Animal):\n",
    "    def run(self):\n",
    "        print(\"The mammal is running.\")\n",
    "\n",
    "class Dog(Mammal):\n",
    "    def bark(self):\n",
    "        print(\"The dog is barking.\")\n",
    "\n",
    "dog = Dog()\n",
    "dog.breathe()  \n",
    "dog.run()  \n",
    "dog.bark()  \n"
   ]
  },
  {
   "cell_type": "code",
   "execution_count": null,
   "id": "567fcce9",
   "metadata": {},
   "outputs": [],
   "source": []
  }
 ],
 "metadata": {
  "kernelspec": {
   "display_name": "Python 3 (ipykernel)",
   "language": "python",
   "name": "python3"
  },
  "language_info": {
   "codemirror_mode": {
    "name": "ipython",
    "version": 3
   },
   "file_extension": ".py",
   "mimetype": "text/x-python",
   "name": "python",
   "nbconvert_exporter": "python",
   "pygments_lexer": "ipython3",
   "version": "3.11.1"
  }
 },
 "nbformat": 4,
 "nbformat_minor": 5
}
